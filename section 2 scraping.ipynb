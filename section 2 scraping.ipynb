{
  "cells": [
    {
      "metadata": {
        "trusted": true
      },
      "cell_type": "code",
      "source": "import zipfile, urllib.request, shutil\nurl = 'https://www.kaggle.com/nicapotato/womens-ecommerce-clothing-reviews/downloads/Womens%20Clothing%20E-Commerce%20Reviews.csv'\n# file_name = 'Women.zip'\n# with urllib.request.urlopen(url) as response, open(file_name, 'wb') as out_file:\n#     shutil.copyfileobj(response, out_file)\n#     with zipfile.ZipFile(file_name) as zf:\n#         zf.extractall()\n ",
      "execution_count": 7,
      "outputs": []
    },
    {
      "metadata": {
        "trusted": true
      },
      "cell_type": "code",
      "source": "# import pandas as pd\n# df = pd.read_csv('Womens Clothing E-Commerce Reviews.csv')\n \n# dfunstacked=df[['Rating','Division Name','Department Name']].groupby(['Division Name','Department Name']).mean().unstack()",
      "execution_count": 6,
      "outputs": []
    },
    {
      "metadata": {
        "trusted": true
      },
      "cell_type": "code",
      "source": "import numpy as np\nimport pandas as pd\ndata = pd.Series(np.random.randn(9),\n                 index=[['a', 'a', 'a', 'b', 'b', 'c', 'c', 'd', 'd'],\n                        [1, 2, 3, 1, 3, 1, 2, 2, 3]])\ndata",
      "execution_count": 10,
      "outputs": [
        {
          "output_type": "execute_result",
          "execution_count": 10,
          "data": {
            "text/plain": "a  1    1.709816\n   2   -0.824444\n   3    1.920218\nb  1    0.106124\n   3   -0.786647\nc  1    1.395712\n   2   -1.102335\nd  2   -1.432714\n   3   -0.979672\ndtype: float64"
          },
          "metadata": {}
        }
      ]
    },
    {
      "metadata": {
        "trusted": true
      },
      "cell_type": "code",
      "source": "data.index\n",
      "execution_count": 11,
      "outputs": [
        {
          "output_type": "execute_result",
          "execution_count": 11,
          "data": {
            "text/plain": "MultiIndex(levels=[['a', 'b', 'c', 'd'], [1, 2, 3]],\n           labels=[[0, 0, 0, 1, 1, 2, 2, 3, 3], [0, 1, 2, 0, 2, 0, 1, 1, 2]])"
          },
          "metadata": {}
        }
      ]
    },
    {
      "metadata": {
        "trusted": true
      },
      "cell_type": "code",
      "source": "data.unstack()",
      "execution_count": 12,
      "outputs": [
        {
          "output_type": "execute_result",
          "execution_count": 12,
          "data": {
            "text/html": "<div>\n<style scoped>\n    .dataframe tbody tr th:only-of-type {\n        vertical-align: middle;\n    }\n\n    .dataframe tbody tr th {\n        vertical-align: top;\n    }\n\n    .dataframe thead th {\n        text-align: right;\n    }\n</style>\n<table border=\"1\" class=\"dataframe\">\n  <thead>\n    <tr style=\"text-align: right;\">\n      <th></th>\n      <th>1</th>\n      <th>2</th>\n      <th>3</th>\n    </tr>\n  </thead>\n  <tbody>\n    <tr>\n      <th>a</th>\n      <td>1.709816</td>\n      <td>-0.824444</td>\n      <td>1.920218</td>\n    </tr>\n    <tr>\n      <th>b</th>\n      <td>0.106124</td>\n      <td>NaN</td>\n      <td>-0.786647</td>\n    </tr>\n    <tr>\n      <th>c</th>\n      <td>1.395712</td>\n      <td>-1.102335</td>\n      <td>NaN</td>\n    </tr>\n    <tr>\n      <th>d</th>\n      <td>NaN</td>\n      <td>-1.432714</td>\n      <td>-0.979672</td>\n    </tr>\n  </tbody>\n</table>\n</div>",
            "text/plain": "          1         2         3\na  1.709816 -0.824444  1.920218\nb  0.106124       NaN -0.786647\nc  1.395712 -1.102335       NaN\nd       NaN -1.432714 -0.979672"
          },
          "metadata": {}
        }
      ]
    },
    {
      "metadata": {
        "trusted": true
      },
      "cell_type": "code",
      "source": "frame = pd.DataFrame(np.arange(12).reshape((4, 3)),\n                     index=[['a', 'a', 'b', 'b'], [1, 2, 1, 2]],\n                     columns=[['Ohio', 'Ohio', 'Colorado'],\n                              ['Green', 'Red', 'Green']])\nframe\n",
      "execution_count": 13,
      "outputs": [
        {
          "output_type": "execute_result",
          "execution_count": 13,
          "data": {
            "text/html": "<div>\n<style scoped>\n    .dataframe tbody tr th:only-of-type {\n        vertical-align: middle;\n    }\n\n    .dataframe tbody tr th {\n        vertical-align: top;\n    }\n\n    .dataframe thead tr th {\n        text-align: left;\n    }\n</style>\n<table border=\"1\" class=\"dataframe\">\n  <thead>\n    <tr>\n      <th></th>\n      <th></th>\n      <th colspan=\"2\" halign=\"left\">Ohio</th>\n      <th>Colorado</th>\n    </tr>\n    <tr>\n      <th></th>\n      <th></th>\n      <th>Green</th>\n      <th>Red</th>\n      <th>Green</th>\n    </tr>\n  </thead>\n  <tbody>\n    <tr>\n      <th rowspan=\"2\" valign=\"top\">a</th>\n      <th>1</th>\n      <td>0</td>\n      <td>1</td>\n      <td>2</td>\n    </tr>\n    <tr>\n      <th>2</th>\n      <td>3</td>\n      <td>4</td>\n      <td>5</td>\n    </tr>\n    <tr>\n      <th rowspan=\"2\" valign=\"top\">b</th>\n      <th>1</th>\n      <td>6</td>\n      <td>7</td>\n      <td>8</td>\n    </tr>\n    <tr>\n      <th>2</th>\n      <td>9</td>\n      <td>10</td>\n      <td>11</td>\n    </tr>\n  </tbody>\n</table>\n</div>",
            "text/plain": "     Ohio     Colorado\n    Green Red    Green\na 1     0   1        2\n  2     3   4        5\nb 1     6   7        8\n  2     9  10       11"
          },
          "metadata": {}
        }
      ]
    },
    {
      "metadata": {
        "trusted": true
      },
      "cell_type": "code",
      "source": "frame.unstack()",
      "execution_count": 14,
      "outputs": [
        {
          "output_type": "execute_result",
          "execution_count": 14,
          "data": {
            "text/html": "<div>\n<style scoped>\n    .dataframe tbody tr th:only-of-type {\n        vertical-align: middle;\n    }\n\n    .dataframe tbody tr th {\n        vertical-align: top;\n    }\n\n    .dataframe thead tr th {\n        text-align: left;\n    }\n</style>\n<table border=\"1\" class=\"dataframe\">\n  <thead>\n    <tr>\n      <th></th>\n      <th colspan=\"4\" halign=\"left\">Ohio</th>\n      <th colspan=\"2\" halign=\"left\">Colorado</th>\n    </tr>\n    <tr>\n      <th></th>\n      <th colspan=\"2\" halign=\"left\">Green</th>\n      <th colspan=\"2\" halign=\"left\">Red</th>\n      <th colspan=\"2\" halign=\"left\">Green</th>\n    </tr>\n    <tr>\n      <th></th>\n      <th>1</th>\n      <th>2</th>\n      <th>1</th>\n      <th>2</th>\n      <th>1</th>\n      <th>2</th>\n    </tr>\n  </thead>\n  <tbody>\n    <tr>\n      <th>a</th>\n      <td>0</td>\n      <td>3</td>\n      <td>1</td>\n      <td>4</td>\n      <td>2</td>\n      <td>5</td>\n    </tr>\n    <tr>\n      <th>b</th>\n      <td>6</td>\n      <td>9</td>\n      <td>7</td>\n      <td>10</td>\n      <td>8</td>\n      <td>11</td>\n    </tr>\n  </tbody>\n</table>\n</div>",
            "text/plain": "   Ohio            Colorado    \n  Green    Red        Green    \n      1  2   1   2        1   2\na     0  3   1   4        2   5\nb     6  9   7  10        8  11"
          },
          "metadata": {}
        }
      ]
    },
    {
      "metadata": {
        "trusted": true
      },
      "cell_type": "code",
      "source": "from requests import get\nurl = 'https://www.tutorialspoint.com/apache_oozie/apache_oozie_introduction.htm'\nresponse = get(url)\nprint(response.text[:2000])",
      "execution_count": 16,
      "outputs": [
        {
          "output_type": "stream",
          "text": "<!DOCTYPE html>\n<!--[if IE 8]><html class=\"ie ie8\"> <![endif]-->\n<!--[if IE 9]><html class=\"ie ie9\"> <![endif]-->\n<!--[if gt IE 9]><!-->\t<html> <!--<![endif]-->\n<head>\n<!-- Basic -->\n<meta charset=\"utf-8\">\n<title>APache Oozie Introduction</title>\n<meta name=\"description\" content=\"Apache Oozie Introduction - Learn Apache Oozie starting from Introduction, Workflow, Property File, Coordinator, Bundle, CLI and Extensions.\" />\n<meta name=\"keywords\" content=\"Apache Oozie, Tutorial, Introduction, Workflow, Property File, Coordinator, Bundle, CLI and Extensions.\" />\n<base href=\"https://www.tutorialspoint.com/\" />\r\n<link rel=\"shortcut icon\" href=\"/favicon.ico\" type=\"image/x-icon\" />\r\n<meta name=\"viewport\" content=\"width=device-width,initial-scale=1.0,user-scalable=yes\">\r\n<meta property=\"og:locale\" content=\"en_US\" />\r\n<meta property=\"og:type\" content=\"website\" />\r\n<meta property=\"fb:app_id\" content=\"471319149685276\" />\r\n<meta property=\"og:site_name\" content=\"www.tutorialspoint.com\" />\r\n<meta name=\"apple-mobile-web-app-capable\" content=\"yes\">\r\n<meta name=\"apple-mobile-web-app-status-bar-style\" content=\"black\">\r\n<meta name=\"author\" content=\"tutorialspoint.com\">\r\n<script type=\"text/javascript\" src=\"https://www.tutorialspoint.com/theme/js/script-min-v4.js?v=2\"></script>\r\n<link rel=\"stylesheet\" href=\"https://www.tutorialspoint.com/theme/css/style-min.css?v=3\">\r\n<script>\r\nfunction openNav() {\t\r\n  document.getElementById(\"mySidenav\").style.width = \"250px\";\r\n  document.getElementById(\"right_obs\").style.display = \"block\";\r\n}\r\nfunction closeNav() {\r\n  document.getElementById(\"mySidenav\").style.width = \"0\";\r\n  document.getElementById(\"right_obs\").style.display = \"none\";\r\n}\r\nfunction close_obs_sidenav(){\r\n  document.getElementById(\"mySidenav\").style.width = \"0\";\r\n  document.getElementById(\"right_obs\").style.display = \"none\";\r\n}\r\n</script>\r\n<!-- Head Libs -->\r\n<!--[if IE 8]>\r\n<link rel=\"stylesheet\" type=\"text/css\" href=\"/theme/css/ie8.css\">\r\n<![endif]-->\r\n<style>\r\nselect{ border:0 !import\n",
          "name": "stdout"
        }
      ]
    },
    {
      "metadata": {
        "trusted": true
      },
      "cell_type": "code",
      "source": "from bs4 import BeautifulSoup\n \nhtml_soup = BeautifulSoup(response.text, 'html.parser')\nprint (type(html_soup))\n \n",
      "execution_count": 17,
      "outputs": [
        {
          "output_type": "stream",
          "text": "<class 'bs4.BeautifulSoup'>\n",
          "name": "stdout"
        }
      ]
    },
    {
      "metadata": {
        "trusted": true
      },
      "cell_type": "code",
      "source": "containers = html_soup.find_all('div', class_ = 'col-md-7 middle-col')\ncontainers2 = html_soup.find_all('ul', class_ = 'nav nav-list primary left-menu')\n \nprint(type(containers))\nprint(len(containers))\n \nprint(type(containers2))\nprint(len(containers2))",
      "execution_count": 18,
      "outputs": [
        {
          "output_type": "stream",
          "text": "<class 'bs4.element.ResultSet'>\n1\n<class 'bs4.element.ResultSet'>\n2\n",
          "name": "stdout"
        }
      ]
    },
    {
      "metadata": {
        "trusted": true
      },
      "cell_type": "code",
      "source": "print(containers2)\nfirst = containers2[0]\nprint('---------------')\nprint(first)\nprint('---------------')\n \nprint(first.li)\nprint('---------------')\nprint(first.a)\nprint('---------------')\n \nprint(first.ul)\nprint('---------------')\n \nprint(first.find('li', class_ = 'heading'))\nprint('---------------')",
      "execution_count": 20,
      "outputs": [
        {
          "output_type": "stream",
          "text": "[<ul class=\"nav nav-list primary left-menu\">\n<li class=\"heading\">Apache Oozie Tutorial</li>\n<li><a href=\"/apache_oozie/index.htm\">Apache Oozie - Home</a></li>\n<li><a href=\"/apache_oozie/apache_oozie_introduction.htm\">Apache Oozie - Introduction</a></li>\n<li><a href=\"/apache_oozie/apache_oozie_workflow.htm\">Apache Oozie - Workflow</a></li>\n<li><a href=\"/apache_oozie/apache_oozie_property_file.htm\">Apache Oozie - Property File</a></li>\n<li><a href=\"/apache_oozie/apache_oozie_coordinator.htm\">Apache Oozie - Coordinator</a></li>\n<li><a href=\"/apache_oozie/apache_oozie_bundle.htm\">Apache Oozie - Bundle</a></li>\n<li><a href=\"/apache_oozie/apache_oozie_cli_and_extensions.htm\">Apache Oozie - CLI and Extensions</a></li>\n</ul>, <ul class=\"nav nav-list primary left-menu\">\n<li class=\"heading\">Apache Oozie Useful Resources</li>\n<li><a href=\"/apache_oozie/apache_oozie_quick_guide.htm\">Apache Oozie - Quick Guide</a></li>\n<li><a href=\"/apache_oozie/apache_oozie_useful_resources.htm\">Apache Oozie - Useful Resources</a></li>\n<li><a href=\"/apache_oozie/apache_oozie_discussion.htm\">Apache Oozie - Discussion</a></li>\n</ul>]\n---------------\n<ul class=\"nav nav-list primary left-menu\">\n<li class=\"heading\">Apache Oozie Tutorial</li>\n<li><a href=\"/apache_oozie/index.htm\">Apache Oozie - Home</a></li>\n<li><a href=\"/apache_oozie/apache_oozie_introduction.htm\">Apache Oozie - Introduction</a></li>\n<li><a href=\"/apache_oozie/apache_oozie_workflow.htm\">Apache Oozie - Workflow</a></li>\n<li><a href=\"/apache_oozie/apache_oozie_property_file.htm\">Apache Oozie - Property File</a></li>\n<li><a href=\"/apache_oozie/apache_oozie_coordinator.htm\">Apache Oozie - Coordinator</a></li>\n<li><a href=\"/apache_oozie/apache_oozie_bundle.htm\">Apache Oozie - Bundle</a></li>\n<li><a href=\"/apache_oozie/apache_oozie_cli_and_extensions.htm\">Apache Oozie - CLI and Extensions</a></li>\n</ul>\n---------------\n<li class=\"heading\">Apache Oozie Tutorial</li>\n---------------\n<a href=\"/apache_oozie/index.htm\">Apache Oozie - Home</a>\n---------------\nNone\n---------------\n<li class=\"heading\">Apache Oozie Tutorial</li>\n---------------\n",
          "name": "stdout"
        }
      ]
    },
    {
      "metadata": {
        "trusted": true
      },
      "cell_type": "code",
      "source": "heading = first.find('li', class_ = 'heading')\nprint(heading.text)",
      "execution_count": 21,
      "outputs": [
        {
          "output_type": "stream",
          "text": "Apache Oozie Tutorial\n",
          "name": "stdout"
        }
      ]
    },
    {
      "metadata": {
        "trusted": true
      },
      "cell_type": "code",
      "source": "",
      "execution_count": null,
      "outputs": []
    }
  ],
  "metadata": {
    "kernelspec": {
      "name": "python36",
      "display_name": "Python 3.6",
      "language": "python"
    },
    "language_info": {
      "mimetype": "text/x-python",
      "nbconvert_exporter": "python",
      "name": "python",
      "pygments_lexer": "ipython3",
      "version": "3.6.6",
      "file_extension": ".py",
      "codemirror_mode": {
        "version": 3,
        "name": "ipython"
      }
    }
  },
  "nbformat": 4,
  "nbformat_minor": 2
}